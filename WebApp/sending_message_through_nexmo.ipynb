{
 "cells": [
  {
   "cell_type": "code",
   "execution_count": 2,
   "metadata": {},
   "outputs": [
    {
     "data": {
      "text/plain": [
       "{'message-count': '1',\n",
       " 'messages': [{'to': '919549713699',\n",
       "   'message-id': '1D000000116E38F9',\n",
       "   'status': '0',\n",
       "   'remaining-balance': '1.93800000',\n",
       "   'message-price': '0.01550000',\n",
       "   'network': '40460'}]}"
      ]
     },
     "execution_count": 2,
     "metadata": {},
     "output_type": "execute_result"
    }
   ],
   "source": [
    "import nexmo\n",
    "\n",
    "client = nexmo.Client(key='342c0b9a', secret='pJcf6dbOoySoz54P')\n",
    "\n",
    "client.send_message({\n",
    "    'from': 'Nexmo',\n",
    "    'to': '+919549713699',\n",
    "    'text': 'Hello from Nexmo',\n",
    "})"
   ]
  },
  {
   "cell_type": "code",
   "execution_count": 2,
   "metadata": {},
   "outputs": [
    {
     "name": "stdout",
     "output_type": "stream",
     "text": [
      "Collecting nexmo\n",
      "  Using cached nexmo-2.4.0-py2.py3-none-any.whl (12 kB)\n",
      "Collecting PyJWT[crypto]>=1.6.4\n",
      "  Using cached PyJWT-1.7.1-py2.py3-none-any.whl (18 kB)\n",
      "Collecting pytz>=2018.5\n",
      "  Using cached pytz-2019.3-py2.py3-none-any.whl (509 kB)\n",
      "Requirement already satisfied: requests>=2.4.2 in c:\\users\\hp\\appdata\\local\\continuum\\anaconda3\\lib\\site-packages (from nexmo) (2.22.0)\n",
      "Requirement already satisfied: cryptography>=1.4; extra == \"crypto\" in c:\\users\\hp\\appdata\\local\\continuum\\anaconda3\\lib\\site-packages (from PyJWT[crypto]>=1.6.4->nexmo) (2.2.2)\n",
      "Requirement already satisfied: idna<2.9,>=2.5 in c:\\users\\hp\\appdata\\local\\continuum\\anaconda3\\lib\\site-packages (from requests>=2.4.2->nexmo) (2.6)\n",
      "Requirement already satisfied: chardet<3.1.0,>=3.0.2 in c:\\users\\hp\\appdata\\local\\continuum\\anaconda3\\lib\\site-packages (from requests>=2.4.2->nexmo) (3.0.4)\n",
      "Requirement already satisfied: certifi>=2017.4.17 in c:\\users\\hp\\appdata\\local\\continuum\\anaconda3\\lib\\site-packages (from requests>=2.4.2->nexmo) (2018.4.16)\n",
      "Requirement already satisfied: urllib3!=1.25.0,!=1.25.1,<1.26,>=1.21.1 in c:\\users\\hp\\appdata\\local\\continuum\\anaconda3\\lib\\site-packages (from requests>=2.4.2->nexmo) (1.22)\n",
      "Requirement already satisfied: asn1crypto>=0.21.0 in c:\\users\\hp\\appdata\\local\\continuum\\anaconda3\\lib\\site-packages (from cryptography>=1.4; extra == \"crypto\"->PyJWT[crypto]>=1.6.4->nexmo) (0.24.0)\n",
      "Requirement already satisfied: six>=1.4.1 in c:\\users\\hp\\appdata\\local\\continuum\\anaconda3\\lib\\site-packages (from cryptography>=1.4; extra == \"crypto\"->PyJWT[crypto]>=1.6.4->nexmo) (1.11.0)\n",
      "Requirement already satisfied: cffi>=1.7 in c:\\users\\hp\\appdata\\local\\continuum\\anaconda3\\lib\\site-packages (from cryptography>=1.4; extra == \"crypto\"->PyJWT[crypto]>=1.6.4->nexmo) (1.11.5)\n",
      "Requirement already satisfied: pycparser in c:\\users\\hp\\appdata\\local\\continuum\\anaconda3\\lib\\site-packages (from cffi>=1.7->cryptography>=1.4; extra == \"crypto\"->PyJWT[crypto]>=1.6.4->nexmo) (2.18)\n",
      "Installing collected packages: PyJWT, pytz, nexmo\n",
      "  Attempting uninstall: pytz\n",
      "    Found existing installation: pytz 2018.4\n",
      "    Uninstalling pytz-2018.4:\n",
      "      Successfully uninstalled pytz-2018.4\n",
      "Successfully installed PyJWT-1.7.1 nexmo-2.4.0 pytz-2019.3\n"
     ]
    }
   ],
   "source": [
    "!pip install nexmo\n"
   ]
  },
  {
   "cell_type": "code",
   "execution_count": 4,
   "metadata": {},
   "outputs": [
    {
     "name": "stdout",
     "output_type": "stream",
     "text": [
      "Message sent successfully.\n"
     ]
    }
   ],
   "source": [
    "import nexmo\n",
    "\n",
    "client = nexmo.Client(key='342c0b9a', secret='pJcf6dbOoySoz54P')\n",
    "\n",
    "responseData = client.send_message(\n",
    "    {\n",
    "        \"from\": \"+918619063921\",\n",
    "        \"to\": \"+918384962437\",\n",
    "        \"text\": \"A text message sent using the Nexmo SMS API\",\n",
    "    }\n",
    ")\n",
    "\n",
    "if responseData[\"messages\"][0][\"status\"] == \"0\":\n",
    "    print(\"Message sent successfully.\")\n",
    "else:\n",
    "    print(f\"Message failed with error: {responseData['messages'][0]['error-text']}\")"
   ]
  },
  {
   "cell_type": "code",
   "execution_count": 5,
   "metadata": {},
   "outputs": [
    {
     "data": {
      "text/plain": [
       "{'message-count': '1',\n",
       " 'messages': [{'to': '918384962437',\n",
       "   'message-id': '1D000000116FCF0D',\n",
       "   'status': '0',\n",
       "   'remaining-balance': '1.87600000',\n",
       "   'message-price': '0.01550000',\n",
       "   'network': '405806'}]}"
      ]
     },
     "execution_count": 5,
     "metadata": {},
     "output_type": "execute_result"
    }
   ],
   "source": [
    "import nexmo\n",
    "\n",
    "client = nexmo.Client(key='342c0b9a', secret='pJcf6dbOoySoz54P')\n",
    "\n",
    "client.send_message({\n",
    "    'from': '+918619063921',\n",
    "    'to': '+918384962437',\n",
    "    'text': 'Hello from Nexmo',\n",
    "})"
   ]
  },
  {
   "cell_type": "code",
   "execution_count": null,
   "metadata": {},
   "outputs": [],
   "source": []
  }
 ],
 "metadata": {
  "kernelspec": {
   "display_name": "Python 3",
   "language": "python",
   "name": "python3"
  },
  "language_info": {
   "codemirror_mode": {
    "name": "ipython",
    "version": 3
   },
   "file_extension": ".py",
   "mimetype": "text/x-python",
   "name": "python",
   "nbconvert_exporter": "python",
   "pygments_lexer": "ipython3",
   "version": "3.6.5"
  }
 },
 "nbformat": 4,
 "nbformat_minor": 2
}
